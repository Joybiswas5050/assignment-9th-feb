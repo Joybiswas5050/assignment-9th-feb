{
 "cells": [
  {
   "cell_type": "code",
   "execution_count": 1,
   "id": "d01b3c60-1181-4f91-a36a-d6feb802c59d",
   "metadata": {},
   "outputs": [],
   "source": [
    "class Vehicle:\n",
    "    def __init__(self, name, max_speed, avg_speed):\n",
    "        self._name = name\n",
    "        self._max_speed = max_speed\n",
    "        self._avg_speed = avg_speed\n"
   ]
  },
  {
   "cell_type": "code",
   "execution_count": 2,
   "id": "a23af6c7-cd0e-4376-8b44-a2b7e2a6221d",
   "metadata": {},
   "outputs": [],
   "source": [
    "class Vehicle:\n",
    "    def __init__(self, name, color, model):\n",
    "        self.name = name\n",
    "        self.color = color\n",
    "        self.model = model\n",
    "    \n",
    "    def get_info(self):\n",
    "        return f\"{self.color} {self.name} {self.model}\"\n",
    "\n",
    "class Car(Vehicle):\n",
    "    def seating_capacity(self, capacity):\n",
    "        return f\"{self.get_info()} has a seating capacity of {capacity}.\"\n",
    "\n"
   ]
  },
  {
   "cell_type": "code",
   "execution_count": 3,
   "id": "f2200ef3-ed11-4689-b8a0-663651d04a61",
   "metadata": {},
   "outputs": [],
   "source": [
    "###question no 3"
   ]
  },
  {
   "cell_type": "code",
   "execution_count": null,
   "id": "ae509268-3db5-4957-8518-25e525b18d20",
   "metadata": {},
   "outputs": [],
   "source": [
    "Multiple inheritance is a feature of some object-oriented programming languages, including Python, that allows a class to inherit from more than one parent class.\n",
    "\n",
    "In Python, multiple inheritance is achieved by listing the parent classes in parentheses after the class name, separated by commas. When a class inherits from multiple parent classes, it inherits all of their attributes and methods.\n",
    "\n",
    "Here's an example of a Python code demonstrating multiple inheritance:"
   ]
  },
  {
   "cell_type": "code",
   "execution_count": 4,
   "id": "be8b8d81-e10d-4e47-aba4-10dfcb1603c8",
   "metadata": {},
   "outputs": [
    {
     "name": "stdout",
     "output_type": "stream",
     "text": [
      "Sparrow is eating.\n",
      "Sparrow is flying.\n",
      "Sparrow is chirping.\n"
     ]
    }
   ],
   "source": [
    "class Animal:\n",
    "    def __init__(self, name):\n",
    "        self.name = name\n",
    "        \n",
    "    def eat(self):\n",
    "        print(f\"{self.name} is eating.\")\n",
    "        \n",
    "class Flyer:\n",
    "    def fly(self):\n",
    "        print(f\"{self.name} is flying.\")\n",
    "        \n",
    "class Bird(Animal, Flyer):\n",
    "    def __init__(self, name):\n",
    "        super().__init__(name)\n",
    "        \n",
    "    def chirp(self):\n",
    "        print(f\"{self.name} is chirping.\")\n",
    "\n",
    "bird = Bird(\"Sparrow\")\n",
    "bird.eat()  # Output: Sparrow is eating.\n",
    "bird.fly()  # Output: Sparrow is flying.\n",
    "bird.chirp()  # Output: Sparrow is chirping.\n"
   ]
  },
  {
   "cell_type": "code",
   "execution_count": 5,
   "id": "d1ab5769-711a-4da8-8986-6dc6d2f00778",
   "metadata": {},
   "outputs": [],
   "source": [
    "###question no 4"
   ]
  },
  {
   "cell_type": "code",
   "execution_count": 6,
   "id": "b87b7050-73eb-4c73-b8a7-bf5976eddb15",
   "metadata": {},
   "outputs": [],
   "source": [
    "class Person:\n",
    "    def __init__(self, name, age):\n",
    "        self._name = name\n",
    "        self._age = age\n",
    "    \n",
    "    def get_name(self):\n",
    "        return self._name\n",
    "    \n",
    "    def set_name(self, name):\n",
    "        self._name = name\n",
    "    \n",
    "    def get_age(self):\n",
    "        return self._age\n",
    "    \n",
    "    def set_age(self, age):\n",
    "        self._age = age\n"
   ]
  },
  {
   "cell_type": "code",
   "execution_count": 7,
   "id": "2c3e64b5-c916-49f4-804d-16b1f2d22ee2",
   "metadata": {},
   "outputs": [],
   "source": [
    "###question no 5"
   ]
  },
  {
   "cell_type": "code",
   "execution_count": null,
   "id": "5eeded4d-98b4-4c9a-8b3e-3914782adef4",
   "metadata": {},
   "outputs": [],
   "source": [
    "Method overriding is a concept in object-oriented programming where a subclass provides its own implementation of a method that is already defined in its superclass. When a method is called on an object of the subclass, the subclass's implementation of the method is executed instead of the superclass's implementation."
   ]
  },
  {
   "cell_type": "code",
   "execution_count": null,
   "id": "b003a657-d7a0-4a6f-8bd0-a2ba5ebae379",
   "metadata": {},
   "outputs": [],
   "source": [
    "class Animal:\n",
    "    def speak(self):\n",
    "        print(\"Animal speaks.\")\n",
    "\n",
    "class Dog(Animal):\n",
    "    def speak(self):\n",
    "        print(\"Dog barks.\")\n",
    "\n",
    "# Create objects of the classes\n",
    "animal = Animal()\n",
    "dog = Dog()\n",
    "\n",
    "# Call the speak method on the objects\n",
    "animal.speak()  # Output: Animal speaks.\n",
    "dog.speak()  # Output: Dog barks.\n"
   ]
  }
 ],
 "metadata": {
  "kernelspec": {
   "display_name": "Python 3 (ipykernel)",
   "language": "python",
   "name": "python3"
  },
  "language_info": {
   "codemirror_mode": {
    "name": "ipython",
    "version": 3
   },
   "file_extension": ".py",
   "mimetype": "text/x-python",
   "name": "python",
   "nbconvert_exporter": "python",
   "pygments_lexer": "ipython3",
   "version": "3.10.8"
  }
 },
 "nbformat": 4,
 "nbformat_minor": 5
}
